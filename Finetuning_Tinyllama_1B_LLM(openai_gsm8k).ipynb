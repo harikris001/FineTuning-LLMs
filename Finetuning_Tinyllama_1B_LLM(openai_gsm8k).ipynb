{
  "nbformat": 4,
  "nbformat_minor": 0,
  "metadata": {
    "colab": {
      "provenance": [],
      "gpuType": "T4",
      "authorship_tag": "ABX9TyP6uiRRcJkvNCIhTeUEZsYp",
      "include_colab_link": true
    },
    "kernelspec": {
      "name": "python3",
      "display_name": "Python 3"
    },
    "language_info": {
      "name": "python"
    },
    "accelerator": "GPU"
  },
  "cells": [
    {
      "cell_type": "markdown",
      "metadata": {
        "id": "view-in-github",
        "colab_type": "text"
      },
      "source": [
        "<a href=\"https://colab.research.google.com/github/harikris001/FineTuning-LLMs/blob/main/Finetuning_Tinyllama_1B_LLM(openai_gsm8k).ipynb\" target=\"_parent\"><img src=\"https://colab.research.google.com/assets/colab-badge.svg\" alt=\"Open In Colab\"/></a>"
      ]
    },
    {
      "cell_type": "markdown",
      "source": [
        "# INSTALLING DEPENDENCIES"
      ],
      "metadata": {
        "id": "9H88--bJo9vt"
      }
    },
    {
      "cell_type": "code",
      "source": [
        "!pip install -U bitsandbytes -q"
      ],
      "metadata": {
        "id": "X40YqSDJAKRO"
      },
      "execution_count": null,
      "outputs": []
    },
    {
      "cell_type": "code",
      "source": [
        "!pip install wandb -q"
      ],
      "metadata": {
        "id": "THuP3Z-4PX2E"
      },
      "execution_count": null,
      "outputs": []
    },
    {
      "cell_type": "markdown",
      "source": [
        "# IMPORTING PACKAGES"
      ],
      "metadata": {
        "id": "4WNRy6CvpDej"
      }
    },
    {
      "cell_type": "code",
      "execution_count": null,
      "metadata": {
        "id": "KWLfgGce8vVX"
      },
      "outputs": [],
      "source": [
        "import torch\n",
        "\n",
        "from datasets import load_dataset\n",
        "from transformers import AutoTokenizer, AutoModelForCausalLM, TrainingArguments, Trainer, BitsAndBytesConfig\n",
        "from peft import LoraConfig, get_peft_model, TaskType"
      ]
    },
    {
      "cell_type": "markdown",
      "source": [
        "# MODEL IMPORTING AND CONFIGURATION"
      ],
      "metadata": {
        "id": "ZHbU78kqpSzx"
      }
    },
    {
      "cell_type": "markdown",
      "source": [
        "The model is available on this [Hugging Face Card](https://huggingface.co/TinyLlama/TinyLlama-1.1B-Chat-v1.0).\n",
        "we are using a 4bit quantized model for better and faster training.\n",
        "\n",
        "Techniques used for optimization:\n",
        "- 4 bit quant model\n",
        "- LoRA - low rank adaptation.\n",
        "- Qlora - Quantized LoRA.\n"
      ],
      "metadata": {
        "id": "OE-OPpZ9qAk9"
      }
    },
    {
      "cell_type": "code",
      "source": [
        "model_name = 'TinyLlama/TinyLlama-1.1B-Chat-v1.0'\n",
        "\n",
        "bnb_config = BitsAndBytesConfig(\n",
        "    load_in_4bit=True,\n",
        "    bnb_4bit_compute_dtype=torch.float16,\n",
        "    bnb_4bit_quant_type=\"nf4\",\n",
        "    bnb_4bit_use_double_quant=True,\n",
        ")\n",
        "\n",
        "model = AutoModelForCausalLM.from_pretrained(\n",
        "    model_name,\n",
        "    quantization_config=bnb_config,\n",
        "    device_map=\"auto\",\n",
        "    trust_remote_code=True,\n",
        ")\n",
        "\n",
        "tokenizer = AutoTokenizer.from_pretrained(\n",
        "    model_name,\n",
        "    trust_remote_code = True,\n",
        ")"
      ],
      "metadata": {
        "id": "fppRyBo2-v4o"
      },
      "execution_count": null,
      "outputs": []
    },
    {
      "cell_type": "code",
      "source": [
        "Lora_config = LoraConfig(\n",
        "    r = 4,\n",
        "    lora_alpha = 16,\n",
        "    target_modules = [\"q_proj\", \"k_proj\", \"v_proj\", \"o_proj\"],\n",
        "    lora_dropout = 0.05,\n",
        "    bias = \"none\",\n",
        "    task_type = TaskType.CAUSAL_LM\n",
        ")\n",
        "\n",
        "lora_model = get_peft_model(model, Lora_config)"
      ],
      "metadata": {
        "id": "S9Lw-K7ZBV7M"
      },
      "execution_count": null,
      "outputs": []
    },
    {
      "cell_type": "code",
      "source": [
        "data = load_dataset('openai/gsm8k', 'main', split='train[:200]')"
      ],
      "metadata": {
        "id": "UvpOJV92CAP-"
      },
      "execution_count": null,
      "outputs": []
    },
    {
      "cell_type": "markdown",
      "source": [
        "The tokenization method is different for each model. Refer the hugging face model to understand the format."
      ],
      "metadata": {
        "id": "16QYMswQq0ce"
      }
    },
    {
      "cell_type": "code",
      "source": [
        "def tokenize(batch):\n",
        "  texts = [\n",
        "      f\"### Instruction:\\n{question}\\n ### Response:\\n{answer}\"\n",
        "      for question, answer in zip(batch['question'], batch['answer'])\n",
        "  ]\n",
        "  inputs = tokenizer(texts, max_length=256, return_tensors=\"pt\", padding='max_length', truncation=True)\n",
        "  inputs['labels'] = inputs['input_ids'].clone()\n",
        "  return inputs"
      ],
      "metadata": {
        "id": "W2fnBNbaCqDC"
      },
      "execution_count": null,
      "outputs": []
    },
    {
      "cell_type": "code",
      "source": [
        "tokenised_data = data.map(tokenize, batched=True, batch_size=100, remove_columns=data.column_names)"
      ],
      "metadata": {
        "id": "0KxGbHVKEJ2R"
      },
      "execution_count": null,
      "outputs": []
    },
    {
      "cell_type": "code",
      "source": [
        "training_args = TrainingArguments(\n",
        "    output_dir=\"./tinyLlama-results\",\n",
        "    per_device_train_batch_size=4,\n",
        "    gradient_accumulation_steps=4,\n",
        "    learning_rate=1e-3,\n",
        "    fp16=True,\n",
        "    num_train_epochs=50,\n",
        "    logging_steps=25,\n",
        "    save_strategy='epoch',\n",
        "    report_to=None,\n",
        "    remove_unused_columns=False,\n",
        "    label_names=['labels'],\n",
        ")"
      ],
      "metadata": {
        "id": "czG8_GJxEWHV"
      },
      "execution_count": null,
      "outputs": []
    },
    {
      "cell_type": "code",
      "source": [
        "trainer = Trainer(\n",
        "    model=lora_model,\n",
        "    args=training_args,\n",
        "    train_dataset=tokenised_data,\n",
        "    processing_class=tokenizer,\n",
        ")"
      ],
      "metadata": {
        "id": "2eCRQ2oXGLv9"
      },
      "execution_count": null,
      "outputs": []
    },
    {
      "cell_type": "markdown",
      "source": [
        "To disable the automatic reporting to Wandb run the folowing script. You can skip this if you want to wandb reports."
      ],
      "metadata": {
        "id": "PsrmuxAHr3-T"
      }
    },
    {
      "cell_type": "code",
      "source": [
        "import wandb\n",
        "wandb.init(mode='disabled') # Optional"
      ],
      "metadata": {
        "id": "nqSKVzuzOu2M"
      },
      "execution_count": null,
      "outputs": []
    },
    {
      "cell_type": "code",
      "source": [
        "trainer.train()"
      ],
      "metadata": {
        "id": "F6haaHwoGkdo"
      },
      "execution_count": null,
      "outputs": []
    },
    {
      "cell_type": "code",
      "source": [
        "lora_model.save_pretrained('./tinyLlama-tuned-math')\n",
        "tokenizer.save_pretrained('./tinyLlama-tuned-math')"
      ],
      "metadata": {
        "id": "uC7ax3p1GvT1"
      },
      "execution_count": null,
      "outputs": []
    },
    {
      "cell_type": "code",
      "source": [
        "from torch.utils.data import DataLoader\n",
        "from transformers import default_data_collator\n",
        "\n",
        "\n",
        "from peft import PeftModelForCausalLM\n",
        "import numpy as np"
      ],
      "metadata": {
        "id": "CfsyE2GuLJx5"
      },
      "execution_count": null,
      "outputs": []
    },
    {
      "cell_type": "code",
      "source": [
        "model_name = 'TinyLlama/TinyLlama-1.1B-Chat-v1.0'\n",
        "adapter_path = './tinyLlama-tuned-math'"
      ],
      "metadata": {
        "id": "pAXd14OjMAXy"
      },
      "execution_count": null,
      "outputs": []
    },
    {
      "cell_type": "code",
      "source": [
        "base_model = AutoModelForCausalLM.from_pretrained(\n",
        "    model_name,\n",
        "    quantization_config=bnb_config,\n",
        "    device_map=\"auto\",\n",
        "    trust_remote_code=True,\n",
        ")\n",
        "\n",
        "# Loading the finetuned model for evaluation.\n",
        "tuned_model = PeftModelForCausalLM.from_pretrained(\n",
        "    base_model,\n",
        "    adapter_path,\n",
        "    device_map=\"auto\",\n",
        "    trust_remote_code=True,\n",
        ").eval()"
      ],
      "metadata": {
        "id": "R-KHN0QqM3lL"
      },
      "execution_count": null,
      "outputs": []
    },
    {
      "cell_type": "code",
      "source": [
        "eval_data = load_dataset('openai/gsm8k', 'main', split='train[200:400]')\n",
        "eval_ds = eval_data.map(tokenize, batched=True, remove_columns=data.column_names)\n",
        "eval_ds = eval_ds.with_format('torch')"
      ],
      "metadata": {
        "id": "IHTLF5XSRuCx"
      },
      "execution_count": null,
      "outputs": []
    },
    {
      "cell_type": "code",
      "source": [
        "eval_dataloader = DataLoader(eval_ds, batch_size=8, collate_fn=default_data_collator)"
      ],
      "metadata": {
        "id": "VGMBI8-FSNB1"
      },
      "execution_count": null,
      "outputs": []
    },
    {
      "cell_type": "code",
      "source": [
        "@torch.no_grad()\n",
        "def compute_perplexity(model):\n",
        "    losses = []\n",
        "\n",
        "    for batch in eval_dataloader:\n",
        "      batch = {k:v.to('cuda') for k,v in batch.items()}\n",
        "      loss = model(**batch).loss\n",
        "      losses.append(loss.item())\n",
        "\n",
        "    return np.exp(np.mean(losses))"
      ],
      "metadata": {
        "id": "BgWcqxZESakQ"
      },
      "execution_count": null,
      "outputs": []
    },
    {
      "cell_type": "markdown",
      "source": [
        "**Perplexity is exactly a measure of how confused the model when predicting the next token. It tells whether the model has learned from the training**\n",
        "\n",
        "\n",
        "_Untrained model has an average perplexity of 200 - 400_"
      ],
      "metadata": {
        "id": "N5ZfRcyV_UEr"
      }
    },
    {
      "cell_type": "code",
      "source": [
        "print(f\"Perplexity of Model: {compute_perplexity(tuned_model)}\")"
      ],
      "metadata": {
        "id": "mZ4OLCbbS__S"
      },
      "execution_count": null,
      "outputs": []
    },
    {
      "cell_type": "code",
      "source": [
        "def generate_response(model, prompt):\n",
        "  token_ids = tokenizer(f\"### Instruction: \\n{prompt}\\n### Response: \\n\", return_tensors='pt').input_ids.to('cuda')\n",
        "\n",
        "  with torch.no_grad():\n",
        "    output_ids = model.generate(\n",
        "        token_ids,\n",
        "        max_new_tokens=256\n",
        "      )\n",
        "  return tokenizer.decode(output_ids[0], skip_special_tokens=True)"
      ],
      "metadata": {
        "id": "ECgof1hxTmpA"
      },
      "execution_count": null,
      "outputs": []
    },
    {
      "cell_type": "code",
      "source": [
        "eval_data[0]"
      ],
      "metadata": {
        "id": "HYLVxftgUyAH"
      },
      "execution_count": null,
      "outputs": []
    },
    {
      "cell_type": "code",
      "source": [
        "print(generate_response(tuned_model, eval_data[0]['question']))"
      ],
      "metadata": {
        "id": "WQE76C6qU0--"
      },
      "execution_count": null,
      "outputs": []
    }
  ]
}